
{
 "cells": [
  {
   "cell_type": "code",
   "execution_count": null,
   "metadata": {},
   "outputs": [],
   "source": [
    "!pip install jupyter-dash dash dash-bootstrap-components pandas scikit-learn"
   ]
  },
  {
   "cell_type": "code",
   "execution_count": null,
   "metadata": {},
   "outputs": [],
   "source": [
    "import pandas as pd
",
    "
",
    "# Sample data
",
    "data = {
",
    "    "Experience": [1, 2, 3, 4, 5, 6],
",
    "    "Department": ["HR", "IT", "Finance", "HR", "IT", "Finance"],
",
    "    "Salary": [30000, 40000, 50000, 45000, 55000, 60000]
",
    "}
",
    "
",
    "df = pd.DataFrame(data)
",
    "df.to_csv("hr_salary_data.csv", index=False)
",
    "print("✅ CSV file created!")"
   ]
  },
  {
   "cell_type": "code",
   "execution_count": null,
   "metadata": {},
   "outputs": [],
   "source": [
    "from sklearn.preprocessing import LabelEncoder
",
    "from sklearn.linear_model import LinearRegression
",
    "
",
    "# Load and preprocess
",
    "df = pd.read_csv("hr_salary_data.csv")
",
    "le = LabelEncoder()
",
    "df['Department_encoded'] = le.fit_transform(df['Department'])
",
    "
",
    "# Features and target
",
    "X = df[['Experience', 'Department_encoded']]
",
    "y = df['Salary']
",
    "
",
    "# Train model
",
    "model = LinearRegression()
",
    "model.fit(X, y)"
   ]
  },
  {
   "cell_type": "code",
   "execution_count": null,
   "metadata": {}, 
   "outputs": [],
   "source": [
    "from jupyter_dash import JupyterDash
",
    "from dash import html, dcc, Input, Output
",
    "
",
    "# App
",
    "app = JupyterDash(__name__)
",
    "app.layout = html.Div([
",
    "    html.H2("\ud83d\udcbc HR Salary Prediction Dashboard"),
",
    "    html.Label("Experience (years):"),
",
    "    dcc.Input(id='exp', type='number', value=2),
",
    "
",
    "    html.Label("Department:"),
",
    "    dcc.Dropdown(id='dept', options=[
",
    "        {'label': d, 'value': d} for d in df['Department'].unique()
",
    "    ], value='HR'),
",
    "
",
    "    html.Br(),
",
    "    html.Div(id='output')
",
    "])
",
    "
",
    "# Callback
",
    "@app.callback(
",
    "    Output('output', 'children'),
",
    "    Input('exp', 'value'),
",
    "    Input('dept', 'value')
",
    ")
",
    "def predict_salary(exp, dept):
",
    "    dept_code = le.transform([dept])[0]
",
    "    pred = model.predict([[exp, dept_code]])[0]
",
    "    return f"\ud83d\udcc8 Predicted Salary: \u20b9{int(pred):,}"
",
    "
",
    "# Run
",
    "app.run_server(mode='inline')"
   ]
  }
 ],
 "metadata": {
  "colab": {
   "provenance": []
  },
  "kernelspec": {
   "display_name": "Python 3",
   "language": "python",
   "name": "python3"
  },
  "language_info": {
   "name": "python"
  }
 },
 "nbformat": 4,
 "nbformat_minor": 0
}
